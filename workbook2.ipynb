{
 "cells": [
  {
   "cell_type": "markdown",
   "id": "41420c93",
   "metadata": {},
   "source": [
    "$\\small\\textbf{ 1.2.1 Пример}$ $\\small\\textit{Создать массив 5x2. Создать массив 5x2. Вывести все значения массива,\n",
    "значение элемента с индексом (3,1) и второй столбец. Индексация начинается с нуля.}$ "
   ]
  },
  {
   "cell_type": "code",
   "execution_count": 1,
   "id": "d863f398",
   "metadata": {},
   "outputs": [
    {
     "name": "stdout",
     "output_type": "stream",
     "text": [
      "[[ 1  2]\n",
      " [ 3  4]\n",
      " [ 5  6]\n",
      " [ 7  8]\n",
      " [ 9 10]]\n",
      "8\n",
      "[3 4]\n"
     ]
    }
   ],
   "source": [
    "import numpy as np\n",
    "x = np.array([[1,2],[3,4],[5,6],[7,8],[9,10]])\n",
    "print(x)\n",
    "print(x[3][1])\n",
    "print(x[1])"
   ]
  },
  {
   "cell_type": "markdown",
   "id": "8d419f45",
   "metadata": {},
   "source": [
    "$\\small\\textbf{1.2.2 Пример}$ $\\small\\textit{Пример. Выполнить следующее:\n",
    "1. Создать вектор (одномерный массив) размера 10, заполненный\n",
    "нулями.\n",
    "2. Создать вектор размера 10, заполненный единицами.\n",
    "3. Создать вектор размера 10, заполненный заданным числом.\n",
    "4. Создать вектор со значениями от 10 до 19.}$ "
   ]
  },
  {
   "cell_type": "code",
   "execution_count": 2,
   "id": "f84e47bb",
   "metadata": {},
   "outputs": [
    {
     "name": "stdout",
     "output_type": "stream",
     "text": [
      "[0. 0. 0. 0. 0. 0. 0. 0. 0. 0.] \n",
      " [1. 1. 1. 1. 1. 1. 1. 1. 1. 1.] \n",
      " [5 5 5 5 5 5 5 5 5 5] \n",
      " [10 11 12 13 14 15 16 17 18 19]\n"
     ]
    }
   ],
   "source": [
    "import numpy as np\n",
    "a=np.zeros(10)\n",
    "b=np.ones(10)\n",
    "c=np.full(10,5)\n",
    "d=np.arange(10,20)\n",
    "print(a,\"\\n\",b,\"\\n\",c,\"\\n\",d)"
   ]
  },
  {
   "cell_type": "markdown",
   "id": "c4e1d61d",
   "metadata": {},
   "source": [
    "$\\small\\textbf{1.2.3 Пример}$ $\\small\\textit{Создать массив 10x10 со случайными значениями, найти минимум,\n",
    "максимум и среднее значение.}$ "
   ]
  },
  {
   "cell_type": "code",
   "execution_count": 3,
   "id": "dc7bc316",
   "metadata": {},
   "outputs": [
    {
     "name": "stdout",
     "output_type": "stream",
     "text": [
      "0.00857856444724947 0.9992711988887232 0.5292411769203738\n"
     ]
    }
   ],
   "source": [
    "import numpy as np\n",
    "Z = np.random.random((10, 10))\n",
    "Zmin, Zmax, Zmean = Z.min(), Z.max(),Z.mean()\n",
    "print(Zmin, Zmax, Zmean)"
   ]
  },
  {
   "cell_type": "markdown",
   "id": "771a7065",
   "metadata": {},
   "source": [
    "$\\small\\textbf{1.2.4 Пример}$ $\\small\\textit{Задать матрицу размерности 5 на 5 и поменять 2 строки в матрице\n",
    "местами.}$ "
   ]
  },
  {
   "cell_type": "code",
   "execution_count": 4,
   "id": "6bb4844b",
   "metadata": {},
   "outputs": [
    {
     "name": "stdout",
     "output_type": "stream",
     "text": [
      "[[ 5  6  7  8  9]\n",
      " [ 0  1  2  3  4]\n",
      " [10 11 12 13 14]\n",
      " [15 16 17 18 19]\n",
      " [20 21 22 23 24]]\n"
     ]
    }
   ],
   "source": [
    "import numpy as np\n",
    "A=np.arange(25).reshape(5,5)\n",
    "A[[0,1]]=A[[1,0]]\n",
    "print(A)"
   ]
  },
  {
   "cell_type": "markdown",
   "id": "8aa1198e",
   "metadata": {},
   "source": [
    "$\\small\\textbf{1.2.5 Пример}$ $\\small\\textit{Выяснить результат следующих выражений:\n",
    "0 * np.nan , \n",
    "np.nan == np.nan ,\n",
    "np.inf > np.nan ,\n",
    "np.nan - np.nan ,\n",
    "0.3 == 3 * 0.1}$ "
   ]
  },
  {
   "cell_type": "code",
   "execution_count": 5,
   "id": "0c583e7a",
   "metadata": {},
   "outputs": [
    {
     "name": "stdout",
     "output_type": "stream",
     "text": [
      "nan\n",
      "False\n",
      "False\n",
      "nan\n",
      "False\n"
     ]
    }
   ],
   "source": [
    "import numpy as np\n",
    "print(0*np.nan)\n",
    "print(np.nan==np.nan)\n",
    "print(np.inf>np.nan)\n",
    "print(np.nan-np.nan)\n",
    "print(0.3==3*0.1)"
   ]
  },
  {
   "cell_type": "markdown",
   "id": "af84fcf1",
   "metadata": {},
   "source": [
    "$\\small\\textbf{1.2.6 Пример}$ $\\small\\textit{Отсортировать массив.}$ "
   ]
  },
  {
   "cell_type": "code",
   "execution_count": 6,
   "id": "25bfc9c8",
   "metadata": {},
   "outputs": [
    {
     "name": "stdout",
     "output_type": "stream",
     "text": [
      "[1 2 3 4 5 6 7 8]\n"
     ]
    }
   ],
   "source": [
    "import numpy as np\n",
    "arr=np.array([2,1,5,3,7,4,6,8])\n",
    "print(np.sort(arr))"
   ]
  },
  {
   "cell_type": "markdown",
   "id": "10a40341",
   "metadata": {},
   "source": [
    "$\\small\\textbf{1.3.1 Задание}$ $\\small\\textit{Создать 8x8 матрицу и заполнить её в шахматном порядке нулями и\n",
    "единицами.}$ "
   ]
  },
  {
   "cell_type": "code",
   "execution_count": 7,
   "id": "569a2d24",
   "metadata": {},
   "outputs": [
    {
     "name": "stdout",
     "output_type": "stream",
     "text": [
      "[[1 0 1 0 1 0 1 0]\n",
      " [0 1 0 1 0 1 0 1]\n",
      " [1 0 1 0 1 0 1 0]\n",
      " [0 1 0 1 0 1 0 1]\n",
      " [1 0 1 0 1 0 1 0]\n",
      " [0 1 0 1 0 1 0 1]\n",
      " [1 0 1 0 1 0 1 0]\n",
      " [0 1 0 1 0 1 0 1]]\n"
     ]
    }
   ],
   "source": [
    "import numpy as np\n",
    "\n",
    "matrix = np.zeros((8, 8), dtype=int) \n",
    "matrix[::2, ::2] = 1  \n",
    "matrix[1::2, 1::2] = 1  \n",
    "\n",
    "print(matrix)\n"
   ]
  },
  {
   "cell_type": "markdown",
   "id": "1dffa9fa",
   "metadata": {},
   "source": [
    "$\\small\\textbf{1.3.2 Задание}$ $\\small\\textit{Создать 5x5 матрицу со значениями в строках от 0 до 4. Для создания\n",
    "необходимо использовать функцию arrange}$ "
   ]
  },
  {
   "cell_type": "code",
   "execution_count": 8,
   "id": "4ff1e6d2",
   "metadata": {},
   "outputs": [
    {
     "name": "stdout",
     "output_type": "stream",
     "text": [
      "[[0. 1. 2. 3. 4.]\n",
      " [0. 1. 2. 3. 4.]\n",
      " [0. 1. 2. 3. 4.]\n",
      " [0. 1. 2. 3. 4.]\n",
      " [0. 1. 2. 3. 4.]]\n"
     ]
    }
   ],
   "source": [
    "import numpy as np\n",
    "\n",
    "matrix = np.zeros((5,5))\n",
    "matrix += np.arange(5)\n",
    "\n",
    "print(matrix)\n"
   ]
  },
  {
   "cell_type": "markdown",
   "id": "d9efe2ee",
   "metadata": {},
   "source": [
    "$\\small\\textbf{1.3.3 Задание}$ $\\textit{Создать массив 3x3x3 со случайными значениями.}$ "
   ]
  },
  {
   "cell_type": "code",
   "execution_count": 9,
   "id": "b251339c",
   "metadata": {},
   "outputs": [
    {
     "name": "stdout",
     "output_type": "stream",
     "text": [
      "[[[0.41753102 0.00889829 0.97949823]\n",
      "  [0.82500564 0.86093466 0.1641877 ]\n",
      "  [0.62619979 0.87183796 0.72002036]]\n",
      "\n",
      " [[0.98661415 0.15000667 0.23857899]\n",
      "  [0.8661748  0.90308904 0.50351258]\n",
      "  [0.05460981 0.87966331 0.11936056]]\n",
      "\n",
      " [[0.450067   0.20244263 0.14953257]\n",
      "  [0.287735   0.92146206 0.97702478]\n",
      "  [0.85846641 0.29174472 0.16098527]]]\n"
     ]
    }
   ],
   "source": [
    "import numpy as np\n",
    "\n",
    "array = np.random.rand(3, 3, 3)\n",
    "\n",
    "print(array)\n"
   ]
  },
  {
   "cell_type": "markdown",
   "id": "73a176ce",
   "metadata": {},
   "source": [
    "$\\small\\textbf{1.3.4 Задание}$ $\\small\\textit{Создать матрицу с 0 внутри, и 1 на границах.}$ "
   ]
  },
  {
   "cell_type": "code",
   "execution_count": 10,
   "id": "437338da",
   "metadata": {},
   "outputs": [
    {
     "name": "stdout",
     "output_type": "stream",
     "text": [
      "[[1. 1. 1. 1. 1.]\n",
      " [1. 0. 0. 0. 1.]\n",
      " [1. 0. 0. 0. 1.]\n",
      " [1. 0. 0. 0. 1.]\n",
      " [1. 1. 1. 1. 1.]]\n"
     ]
    }
   ],
   "source": [
    "import numpy as np\n",
    "\n",
    "n_rows = 5\n",
    "n_cols = 5\n",
    "\n",
    "matrix = np.zeros((n_rows, n_cols))\n",
    "matrix[0, :] = 1\n",
    "matrix[-1, :] = 1\n",
    "matrix[:, 0] = 1\n",
    "matrix[:, -1] = 1\n",
    "\n",
    "print(matrix)\n"
   ]
  },
  {
   "cell_type": "markdown",
   "id": "8c8bc13a",
   "metadata": {},
   "source": [
    "$\\small\\textbf{1.3.5 Задание}$ $\\small\\textit{Создайте массив и отсортируйте его по убыванию.}$ "
   ]
  },
  {
   "cell_type": "code",
   "execution_count": 11,
   "id": "a793bb35",
   "metadata": {},
   "outputs": [
    {
     "name": "stdout",
     "output_type": "stream",
     "text": [
      "[9 8 5 3 2 1]\n"
     ]
    }
   ],
   "source": [
    "import numpy as np\n",
    "\n",
    "arr = np.array([5, 2, 8, 1, 9, 3])\n",
    "sorted_arr = np.sort(arr)[::-1]\n",
    "\n",
    "print(sorted_arr)\n"
   ]
  },
  {
   "cell_type": "markdown",
   "id": "d88077fb",
   "metadata": {},
   "source": [
    "$\\small\\textbf{1.3.6 Задание}$ $\\small\\textit{Создайте матрицу, выведите ее форму, размер и размерность.}$ "
   ]
  },
  {
   "cell_type": "code",
   "execution_count": 12,
   "id": "4797da3d",
   "metadata": {},
   "outputs": [
    {
     "name": "stdout",
     "output_type": "stream",
     "text": [
      "[[1 2 3]\n",
      " [4 5 6]\n",
      " [7 8 9]]\n",
      "Форма: (3, 3)\n",
      "Размер: 9\n",
      "Размерность: 2\n"
     ]
    }
   ],
   "source": [
    "import numpy as np\n",
    "\n",
    "matrix = np.array([[1, 2, 3], [4, 5, 6], [7, 8, 9]])\n",
    "\n",
    "print(matrix)\n",
    "print(\"Форма:\", matrix.shape)\n",
    "print(\"Размер:\", matrix.size)\n",
    "print(\"Размерность:\", matrix.ndim)\n"
   ]
  },
  {
   "cell_type": "markdown",
   "id": "f5d8f5db",
   "metadata": {},
   "source": [
    "$\\small\\textbf{2.2.1 Пример}$ $\\small\\textit{Создать Series из списка Python, словаря Python, и массива Numpy(установить буквенные метки для последнего.}$ "
   ]
  },
  {
   "cell_type": "code",
   "execution_count": 13,
   "id": "d9d766a1",
   "metadata": {},
   "outputs": [
    {
     "name": "stdout",
     "output_type": "stream",
     "text": [
      "0    1\n",
      "1    2\n",
      "2    3\n",
      "3    4\n",
      "4    5\n",
      "dtype: int64\n",
      "a    1\n",
      "b    2\n",
      "c    3\n",
      "dtype: int64\n",
      "a    1\n",
      "b    2\n",
      "c    3\n",
      "d    4\n",
      "e    5\n",
      "dtype: int32\n"
     ]
    }
   ],
   "source": [
    "import pandas as pd\n",
    "import numpy as np\n",
    "lst=[1,2,3,4,5]\n",
    "d={'a':1,'b':2,'c':3}\n",
    "ndarr=np.array([1,2,3,4,5])\n",
    "\n",
    "s1=pd.Series(lst)\n",
    "s2=pd.Series(d)\n",
    "s3=pd.Series(ndarr,['a','b','c','d','e'])\n",
    "\n",
    "print(s1)\n",
    "print(s2)\n",
    "print(s3)"
   ]
  },
  {
   "cell_type": "markdown",
   "id": "f38d9828",
   "metadata": {},
   "source": [
    "$\\small\\textbf{2.2.2 Пример}$ $\\small\\textit{Дано два Series. Напечатать их первые элементы и все элементы после третьего (во втором фрейме)}$ "
   ]
  },
  {
   "cell_type": "code",
   "execution_count": 14,
   "id": "c9b18830",
   "metadata": {},
   "outputs": [
    {
     "name": "stdout",
     "output_type": "stream",
     "text": [
      "1\n",
      "5\n",
      "3    2\n",
      "4    1\n",
      "dtype: int64\n"
     ]
    }
   ],
   "source": [
    "import pandas as pd\n",
    "s1=pd.Series([1,2,3,4,5],['a','b','c','d','e'])\n",
    "s2=pd.Series([5,4,3,2,1])\n",
    "print(s1['a'])\n",
    "print(s2[0])\n",
    "print(s2[3:])"
   ]
  },
  {
   "cell_type": "markdown",
   "id": "a9704c5c",
   "metadata": {},
   "source": [
    "$\\small\\textbf{2.2.3 Пример}$ $\\small\\textit{Создайте новый фрейм данных.}$ "
   ]
  },
  {
   "cell_type": "code",
   "execution_count": 15,
   "id": "22d24082",
   "metadata": {},
   "outputs": [
    {
     "data": {
      "text/html": [
       "<div>\n",
       "<style scoped>\n",
       "    .dataframe tbody tr th:only-of-type {\n",
       "        vertical-align: middle;\n",
       "    }\n",
       "\n",
       "    .dataframe tbody tr th {\n",
       "        vertical-align: top;\n",
       "    }\n",
       "\n",
       "    .dataframe thead th {\n",
       "        text-align: right;\n",
       "    }\n",
       "</style>\n",
       "<table border=\"1\" class=\"dataframe\">\n",
       "  <thead>\n",
       "    <tr style=\"text-align: right;\">\n",
       "      <th></th>\n",
       "      <th>Имя</th>\n",
       "      <th>Возраст</th>\n",
       "      <th>Водитель</th>\n",
       "    </tr>\n",
       "  </thead>\n",
       "  <tbody>\n",
       "    <tr>\n",
       "      <th>0</th>\n",
       "      <td>Джеки Джексон</td>\n",
       "      <td>38</td>\n",
       "      <td>True</td>\n",
       "    </tr>\n",
       "    <tr>\n",
       "      <th>1</th>\n",
       "      <td>Стивен Стивенсон</td>\n",
       "      <td>25</td>\n",
       "      <td>False</td>\n",
       "    </tr>\n",
       "  </tbody>\n",
       "</table>\n",
       "</div>"
      ],
      "text/plain": [
       "                Имя  Возраст  Водитель\n",
       "0     Джеки Джексон       38      True\n",
       "1  Стивен Стивенсон       25     False"
      ]
     },
     "execution_count": 15,
     "metadata": {},
     "output_type": "execute_result"
    }
   ],
   "source": [
    "import pandas as pd\n",
    "dataframe=pd.DataFrame()\n",
    "dataframe['Имя']=['Джеки Джексон','Стивен Стивенсон']\n",
    "dataframe['Возраст']=[38,25]\n",
    "dataframe['Водитель']=[True,False]\n",
    "dataframe"
   ]
  },
  {
   "cell_type": "markdown",
   "id": "2d01a177",
   "metadata": {},
   "source": [
    "$\\small\\textbf{2.2.4 Пример}$ $\\small\\textit{Загрузите фрейм данных по ссылке:\n",
    "https://raw.githubusercontent.com/chrisalbon/simulated_datasets/master/titan\n",
    "ic.csv}$ "
   ]
  },
  {
   "cell_type": "code",
   "execution_count": 16,
   "id": "33018193",
   "metadata": {},
   "outputs": [
    {
     "data": {
      "text/html": [
       "<div>\n",
       "<style scoped>\n",
       "    .dataframe tbody tr th:only-of-type {\n",
       "        vertical-align: middle;\n",
       "    }\n",
       "\n",
       "    .dataframe tbody tr th {\n",
       "        vertical-align: top;\n",
       "    }\n",
       "\n",
       "    .dataframe thead th {\n",
       "        text-align: right;\n",
       "    }\n",
       "</style>\n",
       "<table border=\"1\" class=\"dataframe\">\n",
       "  <thead>\n",
       "    <tr style=\"text-align: right;\">\n",
       "      <th></th>\n",
       "      <th>Name</th>\n",
       "      <th>PClass</th>\n",
       "      <th>Age</th>\n",
       "      <th>Sex</th>\n",
       "      <th>Survived</th>\n",
       "      <th>SexCode</th>\n",
       "    </tr>\n",
       "  </thead>\n",
       "  <tbody>\n",
       "    <tr>\n",
       "      <th>0</th>\n",
       "      <td>Allen, Miss Elisabeth Walton</td>\n",
       "      <td>1st</td>\n",
       "      <td>29.00</td>\n",
       "      <td>female</td>\n",
       "      <td>1</td>\n",
       "      <td>1</td>\n",
       "    </tr>\n",
       "    <tr>\n",
       "      <th>1</th>\n",
       "      <td>Allison, Miss Helen Loraine</td>\n",
       "      <td>1st</td>\n",
       "      <td>2.00</td>\n",
       "      <td>female</td>\n",
       "      <td>0</td>\n",
       "      <td>1</td>\n",
       "    </tr>\n",
       "    <tr>\n",
       "      <th>2</th>\n",
       "      <td>Allison, Mr Hudson Joshua Creighton</td>\n",
       "      <td>1st</td>\n",
       "      <td>30.00</td>\n",
       "      <td>male</td>\n",
       "      <td>0</td>\n",
       "      <td>0</td>\n",
       "    </tr>\n",
       "    <tr>\n",
       "      <th>3</th>\n",
       "      <td>Allison, Mrs Hudson JC (Bessie Waldo Daniels)</td>\n",
       "      <td>1st</td>\n",
       "      <td>25.00</td>\n",
       "      <td>female</td>\n",
       "      <td>0</td>\n",
       "      <td>1</td>\n",
       "    </tr>\n",
       "    <tr>\n",
       "      <th>4</th>\n",
       "      <td>Allison, Master Hudson Trevor</td>\n",
       "      <td>1st</td>\n",
       "      <td>0.92</td>\n",
       "      <td>male</td>\n",
       "      <td>1</td>\n",
       "      <td>0</td>\n",
       "    </tr>\n",
       "  </tbody>\n",
       "</table>\n",
       "</div>"
      ],
      "text/plain": [
       "                                            Name PClass    Age     Sex  \\\n",
       "0                   Allen, Miss Elisabeth Walton    1st  29.00  female   \n",
       "1                    Allison, Miss Helen Loraine    1st   2.00  female   \n",
       "2            Allison, Mr Hudson Joshua Creighton    1st  30.00    male   \n",
       "3  Allison, Mrs Hudson JC (Bessie Waldo Daniels)    1st  25.00  female   \n",
       "4                  Allison, Master Hudson Trevor    1st   0.92    male   \n",
       "\n",
       "   Survived  SexCode  \n",
       "0         1        1  \n",
       "1         0        1  \n",
       "2         0        0  \n",
       "3         0        1  \n",
       "4         1        0  "
      ]
     },
     "execution_count": 16,
     "metadata": {},
     "output_type": "execute_result"
    }
   ],
   "source": [
    "import pandas as pd\n",
    "url='https://raw.githubusercontent.com/chrisalbon/simulated_datasets/master/titanic.csv'\n",
    "dataframe=pd.read_csv(url)\n",
    "dataframe.head(5)"
   ]
  },
  {
   "cell_type": "markdown",
   "id": "2890af84",
   "metadata": {},
   "source": [
    "$\\small\\textbf{2.2.5 Пример}$ $\\small\\textit{Проанализировать характеристики фрейма данных.}$ "
   ]
  },
  {
   "cell_type": "code",
   "execution_count": 17,
   "id": "1a6ca51a",
   "metadata": {},
   "outputs": [
    {
     "name": "stdout",
     "output_type": "stream",
     "text": [
      "                           Name PClass   Age     Sex  Survived  SexCode\n",
      "0  Allen, Miss Elisabeth Walton    1st  29.0  female         1        1\n",
      "1   Allison, Miss Helen Loraine    1st   2.0  female         0        1\n",
      "\n",
      "\n",
      "                  Name PClass   Age   Sex  Survived  SexCode\n",
      "1310  Zenni, Mr Philip    3rd  22.0  male         0        0\n",
      "1311  Lievens, Mr Rene    3rd  24.0  male         0        0\n",
      "1312    Zimmerman, Leo    3rd  29.0  male         0        0\n",
      "\n",
      "\n",
      "(1313, 6)\n",
      "\n",
      "\n",
      "              Age     Survived      SexCode\n",
      "count  756.000000  1313.000000  1313.000000\n",
      "mean    30.397989     0.342727     0.351866\n",
      "std     14.259049     0.474802     0.477734\n",
      "min      0.170000     0.000000     0.000000\n",
      "25%     21.000000     0.000000     0.000000\n",
      "50%     28.000000     0.000000     0.000000\n",
      "75%     39.000000     1.000000     1.000000\n",
      "max     71.000000     1.000000     1.000000\n"
     ]
    }
   ],
   "source": [
    "import pandas as pd\n",
    "url='https://raw.githubusercontent.com/chrisalbon/simulated_datasets/master/titanic.csv'\n",
    "dataframe=pd.read_csv(url)\n",
    "print(dataframe.head(2))\n",
    "print(\"\\n\")\n",
    "print(dataframe.tail(3))\n",
    "print(\"\\n\")\n",
    "print(dataframe.shape)\n",
    "print(\"\\n\")\n",
    "print(dataframe.describe())"
   ]
  },
  {
   "cell_type": "markdown",
   "id": "58020572",
   "metadata": {},
   "source": [
    "$\\small\\textbf{2.2.6 Пример}$ $\\small\\textit{Выберите индивидуальные данные или срезы фрейма данных}$ "
   ]
  },
  {
   "cell_type": "code",
   "execution_count": 18,
   "id": "85f231a2",
   "metadata": {},
   "outputs": [
    {
     "data": {
      "text/html": [
       "<div>\n",
       "<style scoped>\n",
       "    .dataframe tbody tr th:only-of-type {\n",
       "        vertical-align: middle;\n",
       "    }\n",
       "\n",
       "    .dataframe tbody tr th {\n",
       "        vertical-align: top;\n",
       "    }\n",
       "\n",
       "    .dataframe thead th {\n",
       "        text-align: right;\n",
       "    }\n",
       "</style>\n",
       "<table border=\"1\" class=\"dataframe\">\n",
       "  <thead>\n",
       "    <tr style=\"text-align: right;\">\n",
       "      <th></th>\n",
       "      <th>Name</th>\n",
       "      <th>PClass</th>\n",
       "      <th>Age</th>\n",
       "      <th>Sex</th>\n",
       "      <th>Survived</th>\n",
       "      <th>SexCode</th>\n",
       "    </tr>\n",
       "  </thead>\n",
       "  <tbody>\n",
       "    <tr>\n",
       "      <th>1</th>\n",
       "      <td>Allison, Miss Helen Loraine</td>\n",
       "      <td>1st</td>\n",
       "      <td>2.0</td>\n",
       "      <td>female</td>\n",
       "      <td>0</td>\n",
       "      <td>1</td>\n",
       "    </tr>\n",
       "    <tr>\n",
       "      <th>2</th>\n",
       "      <td>Allison, Mr Hudson Joshua Creighton</td>\n",
       "      <td>1st</td>\n",
       "      <td>30.0</td>\n",
       "      <td>male</td>\n",
       "      <td>0</td>\n",
       "      <td>0</td>\n",
       "    </tr>\n",
       "    <tr>\n",
       "      <th>3</th>\n",
       "      <td>Allison, Mrs Hudson JC (Bessie Waldo Daniels)</td>\n",
       "      <td>1st</td>\n",
       "      <td>25.0</td>\n",
       "      <td>female</td>\n",
       "      <td>0</td>\n",
       "      <td>1</td>\n",
       "    </tr>\n",
       "  </tbody>\n",
       "</table>\n",
       "</div>"
      ],
      "text/plain": [
       "                                            Name PClass   Age     Sex  \\\n",
       "1                    Allison, Miss Helen Loraine    1st   2.0  female   \n",
       "2            Allison, Mr Hudson Joshua Creighton    1st  30.0    male   \n",
       "3  Allison, Mrs Hudson JC (Bessie Waldo Daniels)    1st  25.0  female   \n",
       "\n",
       "   Survived  SexCode  \n",
       "1         0        1  \n",
       "2         0        0  \n",
       "3         0        1  "
      ]
     },
     "execution_count": 18,
     "metadata": {},
     "output_type": "execute_result"
    }
   ],
   "source": [
    "import pandas as pd\n",
    "url='https://raw.githubusercontent.com/chrisalbon/simulated_datasets/master/titanic.csv'\n",
    "dataframe=pd.read_csv(url)\n",
    "dataframe.iloc[1:4]"
   ]
  },
  {
   "cell_type": "markdown",
   "id": "bcef7ff8",
   "metadata": {},
   "source": [
    "$\\small\\textbf{2.2.7 Пример}$ $\\small\\textit{Требуется отобрать строки фрейма данных на основе некоторого условия. Необходимо сформировать новый фрейм данных из пассажиров первого класса.}$ "
   ]
  },
  {
   "cell_type": "code",
   "execution_count": 19,
   "id": "bcbb904f",
   "metadata": {},
   "outputs": [
    {
     "data": {
      "text/html": [
       "<div>\n",
       "<style scoped>\n",
       "    .dataframe tbody tr th:only-of-type {\n",
       "        vertical-align: middle;\n",
       "    }\n",
       "\n",
       "    .dataframe tbody tr th {\n",
       "        vertical-align: top;\n",
       "    }\n",
       "\n",
       "    .dataframe thead th {\n",
       "        text-align: right;\n",
       "    }\n",
       "</style>\n",
       "<table border=\"1\" class=\"dataframe\">\n",
       "  <thead>\n",
       "    <tr style=\"text-align: right;\">\n",
       "      <th></th>\n",
       "      <th>Name</th>\n",
       "      <th>PClass</th>\n",
       "      <th>Age</th>\n",
       "      <th>Sex</th>\n",
       "      <th>Survived</th>\n",
       "      <th>SexCode</th>\n",
       "    </tr>\n",
       "  </thead>\n",
       "  <tbody>\n",
       "    <tr>\n",
       "      <th>0</th>\n",
       "      <td>Allen, Miss Elisabeth Walton</td>\n",
       "      <td>1st</td>\n",
       "      <td>29.0</td>\n",
       "      <td>female</td>\n",
       "      <td>1</td>\n",
       "      <td>1</td>\n",
       "    </tr>\n",
       "    <tr>\n",
       "      <th>1</th>\n",
       "      <td>Allison, Miss Helen Loraine</td>\n",
       "      <td>1st</td>\n",
       "      <td>2.0</td>\n",
       "      <td>female</td>\n",
       "      <td>0</td>\n",
       "      <td>1</td>\n",
       "    </tr>\n",
       "  </tbody>\n",
       "</table>\n",
       "</div>"
      ],
      "text/plain": [
       "                           Name PClass   Age     Sex  Survived  SexCode\n",
       "0  Allen, Miss Elisabeth Walton    1st  29.0  female         1        1\n",
       "1   Allison, Miss Helen Loraine    1st   2.0  female         0        1"
      ]
     },
     "execution_count": 19,
     "metadata": {},
     "output_type": "execute_result"
    }
   ],
   "source": [
    "import pandas as pd\n",
    "url='https://raw.githubusercontent.com/chrisalbon/simulated_datasets/master/titanic.csv'\n",
    "dataframe=pd.read_csv(url)\n",
    "dataframe[dataframe['PClass']=='1st'].head(2)"
   ]
  },
  {
   "cell_type": "markdown",
   "id": "ee6c4758",
   "metadata": {},
   "source": [
    "$\\small\\textbf{2.3.1 Задание}$ $\\small\\textit{Найдите евклидово расстояние между двумя Series (точками) a и b, не\n",
    "используя встроенную формулу.}$"
   ]
  },
  {
   "cell_type": "code",
   "execution_count": 20,
   "id": "aafc1201",
   "metadata": {},
   "outputs": [
    {
     "name": "stdout",
     "output_type": "stream",
     "text": [
      "3.4641016151377544\n"
     ]
    }
   ],
   "source": [
    "import pandas as pd\n",
    "\n",
    "a = pd.Series([2, 6, 3, 8])\n",
    "b = pd.Series([1, 9, 4, 7])\n",
    "\n",
    "print(sum((a - b)**2)**0.5)"
   ]
  },
  {
   "cell_type": "markdown",
   "id": "b6564391",
   "metadata": {},
   "source": [
    "$\\small\\textbf{2.3.2 Задание}$ $\\small\\textit{Найдите в Интернете ссылку на любой csv файл и сформируйте из него\n",
    "фрейм данных (например, коллекцию фреймов данных можно найти\n",
    "здесь: https://github.com/akmand/datasets).}$ "
   ]
  },
  {
   "cell_type": "code",
   "execution_count": 21,
   "id": "ac585e1c",
   "metadata": {},
   "outputs": [
    {
     "name": "stdout",
     "output_type": "stream",
     "text": [
      "       1     2     3     4    5     6     7     8     9    10    11    12  \\\n",
      "0  14.23  1.71  2.43  15.6  127  2.80  3.06  0.28  2.29  5.64  1.04  3.92   \n",
      "1  13.20  1.78  2.14  11.2  100  2.65  2.76  0.26  1.28  4.38  1.05  3.40   \n",
      "2  13.16  2.36  2.67  18.6  101  2.80  3.24  0.30  2.81  5.68  1.03  3.17   \n",
      "3  14.37  1.95  2.50  16.8  113  3.85  3.49  0.24  2.18  7.80  0.86  3.45   \n",
      "4  13.24  2.59  2.87  21.0  118  2.80  2.69  0.39  1.82  4.32  1.04  2.93   \n",
      "\n",
      "     13  y  \n",
      "0  1065  1  \n",
      "1  1050  1  \n",
      "2  1185  1  \n",
      "3  1480  1  \n",
      "4   735  1  \n"
     ]
    }
   ],
   "source": [
    "import pandas as pd\n",
    "\n",
    "url = 'https://raw.githubusercontent.com/akmand/datasets/main/wine.csv'\n",
    "dataframe = pd.read_csv(url)\n",
    "print(dataframe.head())\n"
   ]
  },
  {
   "cell_type": "markdown",
   "id": "eb19497e",
   "metadata": {},
   "source": [
    "$\\small\\textbf{2.3.3 Задание}$ $\\small\\textit{Проделайте с получившемся из предыдущего задания фреймом данных\n",
    "те же действия, что и в примерах 2.2.5-2.2.7.}$ "
   ]
  },
  {
   "cell_type": "code",
   "execution_count": 22,
   "id": "b79b317b",
   "metadata": {},
   "outputs": [
    {
     "name": "stdout",
     "output_type": "stream",
     "text": [
      "Index(['1', '2', '3', '4', '5', '6', '7', '8', '9', '10', '11', '12', '13',\n",
      "       'y'],\n",
      "      dtype='object')\n",
      "       1     2     3     4    5     6     7     8     9    10    11    12  \\\n",
      "0  14.23  1.71  2.43  15.6  127  2.80  3.06  0.28  2.29  5.64  1.04  3.92   \n",
      "1  13.20  1.78  2.14  11.2  100  2.65  2.76  0.26  1.28  4.38  1.05  3.40   \n",
      "\n",
      "     13  y  \n",
      "0  1065  1  \n",
      "1  1050  1  \n",
      "\n",
      "\n",
      "         1     2     3     4    5     6     7     8     9    10    11    12  \\\n",
      "175  13.27  4.28  2.26  20.0  120  1.59  0.69  0.43  1.35  10.2  0.59  1.56   \n",
      "176  13.17  2.59  2.37  20.0  120  1.65  0.68  0.53  1.46   9.3  0.60  1.62   \n",
      "177  14.13  4.10  2.74  24.5   96  2.05  0.76  0.56  1.35   9.2  0.61  1.60   \n",
      "\n",
      "      13  y  \n",
      "175  835  3  \n",
      "176  840  3  \n",
      "177  560  3  \n",
      "\n",
      "\n",
      "(178, 14)\n",
      "\n",
      "\n",
      "                1           2           3           4           5           6  \\\n",
      "count  178.000000  178.000000  178.000000  178.000000  178.000000  178.000000   \n",
      "mean    13.000618    2.336348    2.366517   19.494944   99.741573    2.295112   \n",
      "std      0.811827    1.117146    0.274344    3.339564   14.282484    0.625851   \n",
      "min     11.030000    0.740000    1.360000   10.600000   70.000000    0.980000   \n",
      "25%     12.362500    1.602500    2.210000   17.200000   88.000000    1.742500   \n",
      "50%     13.050000    1.865000    2.360000   19.500000   98.000000    2.355000   \n",
      "75%     13.677500    3.082500    2.557500   21.500000  107.000000    2.800000   \n",
      "max     14.830000    5.800000    3.230000   30.000000  162.000000    3.880000   \n",
      "\n",
      "                7           8           9          10          11          12  \\\n",
      "count  178.000000  178.000000  178.000000  178.000000  178.000000  178.000000   \n",
      "mean     2.029270    0.361854    1.590899    5.058090    0.957449    2.611685   \n",
      "std      0.998859    0.124453    0.572359    2.318286    0.228572    0.709990   \n",
      "min      0.340000    0.130000    0.410000    1.280000    0.480000    1.270000   \n",
      "25%      1.205000    0.270000    1.250000    3.220000    0.782500    1.937500   \n",
      "50%      2.135000    0.340000    1.555000    4.690000    0.965000    2.780000   \n",
      "75%      2.875000    0.437500    1.950000    6.200000    1.120000    3.170000   \n",
      "max      5.080000    0.660000    3.580000   13.000000    1.710000    4.000000   \n",
      "\n",
      "                13           y  \n",
      "count   178.000000  178.000000  \n",
      "mean    746.893258    1.938202  \n",
      "std     314.907474    0.775035  \n",
      "min     278.000000    1.000000  \n",
      "25%     500.500000    1.000000  \n",
      "50%     673.500000    2.000000  \n",
      "75%     985.000000    3.000000  \n",
      "max    1680.000000    3.000000  \n",
      "\n",
      "\n",
      "0      14.23\n",
      "1      13.20\n",
      "2      13.16\n",
      "3      14.37\n",
      "4      13.24\n",
      "       ...  \n",
      "173    13.71\n",
      "174    13.40\n",
      "175    13.27\n",
      "176    13.17\n",
      "177    14.13\n",
      "Name: 1, Length: 178, dtype: float64\n",
      "\n",
      "\n",
      "      4    5     6\n",
      "2  18.6  101  2.80\n",
      "3  16.8  113  3.85\n",
      "4  21.0  118  2.80\n",
      "\n",
      "\n",
      "       1     2     3     4    5     6     7     8     9    10    11    12  \\\n",
      "0  14.23  1.71  2.43  15.6  127  2.80  3.06  0.28  2.29  5.64  1.04  3.92   \n",
      "1  13.20  1.78  2.14  11.2  100  2.65  2.76  0.26  1.28  4.38  1.05  3.40   \n",
      "2  13.16  2.36  2.67  18.6  101  2.80  3.24  0.30  2.81  5.68  1.03  3.17   \n",
      "3  14.37  1.95  2.50  16.8  113  3.85  3.49  0.24  2.18  7.80  0.86  3.45   \n",
      "4  13.24  2.59  2.87  21.0  118  2.80  2.69  0.39  1.82  4.32  1.04  2.93   \n",
      "\n",
      "     13  y  \n",
      "0  1065  1  \n",
      "1  1050  1  \n",
      "2  1185  1  \n",
      "3  1480  1  \n",
      "4   735  1  \n"
     ]
    }
   ],
   "source": [
    "import pandas as pd\n",
    "\n",
    "url = 'https://raw.githubusercontent.com/akmand/datasets/main/wine.csv'\n",
    "dataframe = pd.read_csv(url)\n",
    "\n",
    "print(dataframe.columns)\n",
    "# Анализ характеристик фрейма\n",
    "print(dataframe.head(2))\n",
    "print(\"\\n\")\n",
    "print(dataframe.tail(3))\n",
    "print(\"\\n\")\n",
    "print(dataframe.shape)\n",
    "print(\"\\n\")\n",
    "print(dataframe.describe())  # Печать сводной статистики\n",
    "print(\"\\n\")\n",
    "\n",
    "# Выбор отдельных данных или фрагментов \n",
    "print(dataframe['1'])  # Выбор одного столбца\n",
    "print(\"\\n\")\n",
    "print(dataframe.iloc[2:5, 3:6])  # Выбор фрагмента столбцов и строк iloc\n",
    "print(\"\\n\")\n",
    "\n",
    "# Фильтр фрейма данных на основе условия\n",
    "filtered_df = dataframe[dataframe['1'] > 13.0]  # Выбор строк, где 1 столбец > 13.0\n",
    "print(filtered_df.head())\n",
    "\n"
   ]
  },
  {
   "cell_type": "markdown",
   "id": "7545e967",
   "metadata": {},
   "source": [
    "$\\small\\textbf{3.2.1 Пример}$ $\\small\\textit{Прошкалируйте числовой признак в диапазон между двумя значениями}$ "
   ]
  },
  {
   "cell_type": "code",
   "execution_count": 23,
   "id": "6794bc0f",
   "metadata": {},
   "outputs": [
    {
     "data": {
      "text/plain": [
       "array([[0.        ],\n",
       "       [0.28571429],\n",
       "       [0.35714286],\n",
       "       [0.42857143],\n",
       "       [1.        ]])"
      ]
     },
     "execution_count": 23,
     "metadata": {},
     "output_type": "execute_result"
    }
   ],
   "source": [
    "import numpy as np\n",
    "from sklearn import preprocessing\n",
    "feature=np.array([[-500.5],[-100.1],[0],[100.1],[900.9]])\n",
    "minmax_scale=preprocessing.MinMaxScaler(feature_range=(0,1))\n",
    "scaled_feature=minmax_scale.fit_transform(feature)\n",
    "scaled_feature"
   ]
  },
  {
   "cell_type": "markdown",
   "id": "7c37d40a",
   "metadata": {},
   "source": [
    "$\\small\\textbf{3.2.2 Пример}$ $\\small\\textit{Преобразуйте признак, чтобы он имел среднее значение 0 и стандартное отклонение 1}$ "
   ]
  },
  {
   "cell_type": "code",
   "execution_count": 24,
   "id": "89594919",
   "metadata": {},
   "outputs": [
    {
     "name": "stdout",
     "output_type": "stream",
     "text": [
      "Среднее: 0\n",
      "Стандартное отклонение: 1.0\n"
     ]
    },
    {
     "data": {
      "text/plain": [
       "array([[-0.76058269],\n",
       "       [-0.54177196],\n",
       "       [-0.35009716],\n",
       "       [-0.32271504],\n",
       "       [ 1.97516685]])"
      ]
     },
     "execution_count": 24,
     "metadata": {},
     "output_type": "execute_result"
    }
   ],
   "source": [
    "import numpy as np\n",
    "from sklearn import preprocessing\n",
    "x=np.array([[-1000.1],[-200.2],[500.5],[600.6],[9000.9]])\n",
    "scaler=preprocessing.StandardScaler()\n",
    "standardized=scaler.fit_transform(x)\n",
    "print(\"Среднее:\", round(standardized.mean()))\n",
    "print(\"Стандартное отклонение:\",standardized.std())\n",
    "standardized"
   ]
  },
  {
   "cell_type": "markdown",
   "id": "e607341b",
   "metadata": {},
   "source": [
    "$\\small\\textbf{3.2.3. Пример}$ $\\textit{Дан фрейм данных\n",
    "dfTest = pd.DataFrame({'A':[14.00,90.20,90.95,96.27,91.21],\n",
    "    'B':[103.02,107.26,110.35,114.23,114.68],\n",
    "    'C':['big','small','big','small','small']})\n",
    "Необходимо масштабировать его числовые столбцы.}$ "
   ]
  },
  {
   "cell_type": "code",
   "execution_count": 25,
   "id": "0599d92f",
   "metadata": {},
   "outputs": [
    {
     "data": {
      "text/html": [
       "<div>\n",
       "<style scoped>\n",
       "    .dataframe tbody tr th:only-of-type {\n",
       "        vertical-align: middle;\n",
       "    }\n",
       "\n",
       "    .dataframe tbody tr th {\n",
       "        vertical-align: top;\n",
       "    }\n",
       "\n",
       "    .dataframe thead th {\n",
       "        text-align: right;\n",
       "    }\n",
       "</style>\n",
       "<table border=\"1\" class=\"dataframe\">\n",
       "  <thead>\n",
       "    <tr style=\"text-align: right;\">\n",
       "      <th></th>\n",
       "      <th>A</th>\n",
       "      <th>B</th>\n",
       "      <th>C</th>\n",
       "    </tr>\n",
       "  </thead>\n",
       "  <tbody>\n",
       "    <tr>\n",
       "      <th>0</th>\n",
       "      <td>0.000000</td>\n",
       "      <td>0.000000</td>\n",
       "      <td>big</td>\n",
       "    </tr>\n",
       "    <tr>\n",
       "      <th>1</th>\n",
       "      <td>0.926219</td>\n",
       "      <td>0.363636</td>\n",
       "      <td>small</td>\n",
       "    </tr>\n",
       "    <tr>\n",
       "      <th>2</th>\n",
       "      <td>0.935335</td>\n",
       "      <td>0.628645</td>\n",
       "      <td>big</td>\n",
       "    </tr>\n",
       "    <tr>\n",
       "      <th>3</th>\n",
       "      <td>1.000000</td>\n",
       "      <td>0.961407</td>\n",
       "      <td>small</td>\n",
       "    </tr>\n",
       "    <tr>\n",
       "      <th>4</th>\n",
       "      <td>0.938495</td>\n",
       "      <td>1.000000</td>\n",
       "      <td>small</td>\n",
       "    </tr>\n",
       "  </tbody>\n",
       "</table>\n",
       "</div>"
      ],
      "text/plain": [
       "          A         B      C\n",
       "0  0.000000  0.000000    big\n",
       "1  0.926219  0.363636  small\n",
       "2  0.935335  0.628645    big\n",
       "3  1.000000  0.961407  small\n",
       "4  0.938495  1.000000  small"
      ]
     },
     "execution_count": 25,
     "metadata": {},
     "output_type": "execute_result"
    }
   ],
   "source": [
    "import pandas as pd\n",
    "from sklearn.preprocessing import MinMaxScaler\n",
    "scaler=MinMaxScaler()\n",
    "dfTest=pd.DataFrame({'A':[14.00,90.20,90.95,96.27,91.21],\n",
    "'B':[103.02,107.26,110.35,114.23,114.68],\n",
    "'C':['big','small','big','small','small']})\n",
    "\n",
    "dfTest[['A','B']]=scaler.fit_transform(dfTest[['A','B']])\n",
    "dfTest"
   ]
  },
  {
   "cell_type": "markdown",
   "id": "2e426e41",
   "metadata": {},
   "source": [
    "$\\small\\textbf{3.3.2 Задание}$ $\\small\\textit{Загрузить фрейм данных по ссылке:\n",
    "https://raw.githubusercontent.com/akmand/datasets/master/iris.csv.\n",
    "Необходимо выполнить нормализацию первого числового признака\n",
    "(sepal_length_cm) с использованием минимаксного преобразования, а\n",
    "второго (sepal_width_cm) с задействованием z-масштабирования.}$ "
   ]
  },
  {
   "cell_type": "code",
   "execution_count": 27,
   "id": "f7497f20",
   "metadata": {},
   "outputs": [
    {
     "name": "stdout",
     "output_type": "stream",
     "text": [
      "   sepal_length_cm  sepal_width_cm  petal_length_cm  petal_width_cm\n",
      "0         0.222222        1.032057              1.4             0.2\n",
      "1         0.166667       -0.124958              1.4             0.2\n"
     ]
    }
   ],
   "source": [
    "import pandas as pd\n",
    "from sklearn.preprocessing import MinMaxScaler, StandardScaler\n",
    "\n",
    "url = \"https://raw.githubusercontent.com/akmand/datasets/master/iris.csv\"\n",
    "df = pd.read_csv(url)\n",
    "\n",
    "X = df.drop('species', axis=1)\n",
    "y = df['species']\n",
    "\n",
    "scaler_minmax = MinMaxScaler()\n",
    "X['sepal_length_cm'] = scaler_minmax.fit_transform(X[['sepal_length_cm']])\n",
    "\n",
    "scaler_z = StandardScaler()\n",
    "X['sepal_width_cm'] = scaler_z.fit_transform(X[['sepal_width_cm']])\n",
    "\n",
    "print(X.head(2))\n"
   ]
  },
  {
   "cell_type": "code",
   "execution_count": null,
   "id": "8f1712c0",
   "metadata": {},
   "outputs": [],
   "source": []
  }
 ],
 "metadata": {
  "kernelspec": {
   "display_name": "Python 3 (ipykernel)",
   "language": "python",
   "name": "python3"
  },
  "language_info": {
   "codemirror_mode": {
    "name": "ipython",
    "version": 3
   },
   "file_extension": ".py",
   "mimetype": "text/x-python",
   "name": "python",
   "nbconvert_exporter": "python",
   "pygments_lexer": "ipython3",
   "version": "3.9.4"
  }
 },
 "nbformat": 4,
 "nbformat_minor": 5
}
